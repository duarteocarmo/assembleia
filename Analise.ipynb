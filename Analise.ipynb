{
 "cells": [
  {
   "cell_type": "markdown",
   "metadata": {},
   "source": [
    "# Analise de intervencoes do parlamento"
   ]
  },
  {
   "cell_type": "markdown",
   "metadata": {},
   "source": [
    "## 1.Recolha e formatação de dados"
   ]
  },
  {
   "cell_type": "markdown",
   "metadata": {},
   "source": [
    "Com base nos dados abertos disponibilizados no site da assembleia da republica, tive a ideia de investigar as varias [intervencoes](http://www.parlamento.pt/Cidadania/Paginas/DAIntervencoes.aspx) correspondentes a ultima legislatura. "
   ]
  },
  {
   "cell_type": "markdown",
   "metadata": {},
   "source": [
    "Começamos por importar alguns modulos importantes: "
   ]
  },
  {
   "cell_type": "code",
   "execution_count": 9,
   "metadata": {},
   "outputs": [],
   "source": [
    "import json\n",
    "import pandas as pd\n",
    "from pprint import pprint\n",
    "from collections import Counter\n",
    "from __future__ import division"
   ]
  },
  {
   "cell_type": "markdown",
   "metadata": {},
   "source": [
    "Após downloadar os dados no formato json, transferimos para um dictionario chamado `interventions`."
   ]
  },
  {
   "cell_type": "code",
   "execution_count": 10,
   "metadata": {},
   "outputs": [
    {
     "name": "stdout",
     "output_type": "stream",
     "text": [
      "O dictionario tem 11072 intervencoes.\n"
     ]
    }
   ],
   "source": [
    "with open('data/IntervencoesXIII.json') as data_file:    \n",
    "    data = json.load(data_file)\n",
    "    \n",
    "interventions = data['ArrayOfPt_gov_ar_objectos_intervencoes_DadosPesquisaIntervencoesOut']['pt_gov_ar_objectos_intervencoes_DadosPesquisaIntervencoesOut']\n",
    "print 'O dictionario tem {} intervencoes.'.format(len(interventions))"
   ]
  },
  {
   "cell_type": "markdown",
   "metadata": {},
   "source": [
    "Vamos fazer um print da primeira intervenção:"
   ]
  },
  {
   "cell_type": "code",
   "execution_count": 11,
   "metadata": {},
   "outputs": [
    {
     "name": "stdout",
     "output_type": "stream",
     "text": [
      "{u'actividadeId': u'102944',\n",
      " u'actividadesRelacionadas': {u'id': u'102944', u'tipo': u'Disc. Iniciativas'},\n",
      " u'dataReuniaoPlenaria': u'2016-07-20',\n",
      " u'deputados': {u'GP': u'PS',\n",
      "                u'idCadastro': u'1600',\n",
      "                u'nome': u'JAMILA MADEIRA'},\n",
      " u'faseSessao': u'POD',\n",
      " u'idDebate': u'30572',\n",
      " u'iniciativas': {u'pt_gov_ar_objectos_intervencoes_IniciativasOut': {u'fase': u'Vota\\xe7\\xe3o Delibera\\xe7\\xe3o',\n",
      "                                                                      u'id': u'40581',\n",
      "                                                                      u'tipo': u'Projeto de Resolu\\xe7\\xe3o'}},\n",
      " u'legislatura': u'XIII',\n",
      " u'publicacao': {u'pt_gov_ar_objectos_PublicacoesOut': {u'URLDiario': u'http://debates.parlamento.pt/catalogo/r3/dar/01/13/01/089/2016-07-21/115?pgs=115&org=PLC',\n",
      "                                                        u'idAct': None,\n",
      "                                                        u'idDeb': None,\n",
      "                                                        u'idInt': u'202951',\n",
      "                                                        u'idPag': None,\n",
      "                                                        u'pag': {u'string': u'115-115'},\n",
      "                                                        u'pubLeg': u'XIII',\n",
      "                                                        u'pubNr': u'89',\n",
      "                                                        u'pubSL': u'1',\n",
      "                                                        u'pubTipo': u'DAR I s\\xe9rie',\n",
      "                                                        u'pubTp': u'D',\n",
      "                                                        u'pubdt': u'2016-07-21',\n",
      "                                                        u'supl': u'.'}},\n",
      " u'qualidade': u'Deputada',\n",
      " u'sessao': u'1',\n",
      " u'sumario': u'Recomenda ao Governo a elabora\\xe7\\xe3o de levantamento sobre a utiliza\\xe7\\xe3o de ve\\xedculos de trac\\xe7\\xe3o animal e consequente regulamenta\\xe7\\xe3o',\n",
      " u'tipoIntervencao': u'Declara\\xe7\\xe3o de voto'}\n"
     ]
    }
   ],
   "source": [
    "pprint(interventions[0])"
   ]
  },
  {
   "cell_type": "markdown",
   "metadata": {},
   "source": [
    "Vamos obrigar as nossa intervencoes a ter alguns campos essenciais."
   ]
  },
  {
   "cell_type": "code",
   "execution_count": 12,
   "metadata": {},
   "outputs": [],
   "source": [
    "must_have_fields = ['deputados', 'dataReuniaoPlenaria', 'sumario']"
   ]
  },
  {
   "cell_type": "markdown",
   "metadata": {},
   "source": [
    "E criamos uma list a partir da qual vamos criar uma Pandas dataframe:"
   ]
  },
  {
   "cell_type": "code",
   "execution_count": 13,
   "metadata": {},
   "outputs": [],
   "source": [
    "pandas_data = [['id_debate', 'date', 'phase', 'speaker', 'political_party', 'summary_text', 'intervention_type']]"
   ]
  },
  {
   "cell_type": "code",
   "execution_count": 20,
   "metadata": {},
   "outputs": [],
   "source": [
    "# initialize counters\n",
    "total = 0\n",
    "retrieved = 0\n",
    "\n",
    "# loop over list\n",
    "for intervention in interventions:\n",
    "    total += 1\n",
    "    if all(x in intervention.keys() for x in must_have_fields):\n",
    "        # define fields\n",
    "        debate_id = intervention['idDebate']\n",
    "        date = intervention['dataReuniaoPlenaria']\n",
    "        phase = intervention['faseSessao']\n",
    "        speaker = intervention['deputados']['nome']\n",
    "        political_party = intervention['deputados']['GP']\n",
    "        summary_text = intervention['sumario']\n",
    "        intervention_type_text = intervention['tipoIntervencao']\n",
    "        \n",
    "        # add to pandas list\n",
    "        pandas_data += [[debate_id, date, phase, speaker, political_party, summary_text, intervention_type_text]] \n",
    "        retrieved += 1"
   ]
  },
  {
   "cell_type": "markdown",
   "metadata": {},
   "source": [
    "Perdemos? "
   ]
  },
  {
   "cell_type": "code",
   "execution_count": 21,
   "metadata": {},
   "outputs": [
    {
     "name": "stdout",
     "output_type": "stream",
     "text": [
      "Intervencoes parsadas:  11072\n",
      "Intervencoes que foram aceites:  10593\n",
      "Perdemos 0.96%.\n"
     ]
    }
   ],
   "source": [
    "print 'Intervencoes parsadas: ', total\n",
    "print 'Intervencoes que foram aceites: ', retrieved\n",
    "print 'Perdemos {}%.'.format(round(retrieved/total,2))"
   ]
  },
  {
   "cell_type": "markdown",
   "metadata": {},
   "source": [
    "Criamos dataframe: "
   ]
  },
  {
   "cell_type": "code",
   "execution_count": 22,
   "metadata": {},
   "outputs": [],
   "source": [
    "assembleia = pd.DataFrame(pandas_data[1:], columns=pandas_data[0])"
   ]
  },
  {
   "cell_type": "markdown",
   "metadata": {},
   "source": [
    "## 2.Analise preliminar"
   ]
  },
  {
   "cell_type": "markdown",
   "metadata": {},
   "source": [
    "Imprimimos a cabeça:"
   ]
  },
  {
   "cell_type": "code",
   "execution_count": 24,
   "metadata": {},
   "outputs": [
    {
     "data": {
      "text/html": [
       "<div>\n",
       "<style>\n",
       "    .dataframe thead tr:only-child th {\n",
       "        text-align: right;\n",
       "    }\n",
       "\n",
       "    .dataframe thead th {\n",
       "        text-align: left;\n",
       "    }\n",
       "\n",
       "    .dataframe tbody tr th {\n",
       "        vertical-align: top;\n",
       "    }\n",
       "</style>\n",
       "<table border=\"1\" class=\"dataframe\">\n",
       "  <thead>\n",
       "    <tr style=\"text-align: right;\">\n",
       "      <th></th>\n",
       "      <th>id_debate</th>\n",
       "      <th>date</th>\n",
       "      <th>phase</th>\n",
       "      <th>speaker</th>\n",
       "      <th>political_party</th>\n",
       "      <th>summary_text</th>\n",
       "      <th>intervention_type</th>\n",
       "    </tr>\n",
       "  </thead>\n",
       "  <tbody>\n",
       "    <tr>\n",
       "      <th>0</th>\n",
       "      <td>30572</td>\n",
       "      <td>2016-07-20</td>\n",
       "      <td>POD</td>\n",
       "      <td>JAMILA MADEIRA</td>\n",
       "      <td>PS</td>\n",
       "      <td>Recomenda ao Governo a elaboração de levantame...</td>\n",
       "      <td>Declaração de voto</td>\n",
       "    </tr>\n",
       "    <tr>\n",
       "      <th>1</th>\n",
       "      <td>30571</td>\n",
       "      <td>2016-07-20</td>\n",
       "      <td>POD</td>\n",
       "      <td>JOÃO OLIVEIRA</td>\n",
       "      <td>PCP</td>\n",
       "      <td>Regula o acesso à gestação de substituição nos...</td>\n",
       "      <td>Declaração de voto</td>\n",
       "    </tr>\n",
       "    <tr>\n",
       "      <th>2</th>\n",
       "      <td>30592</td>\n",
       "      <td>2016-07-20</td>\n",
       "      <td>POD</td>\n",
       "      <td>LUÍS MONTENEGRO</td>\n",
       "      <td>PSD</td>\n",
       "      <td>Cria um regime de reembolso de impostos sobre ...</td>\n",
       "      <td>Declaração de voto</td>\n",
       "    </tr>\n",
       "    <tr>\n",
       "      <th>3</th>\n",
       "      <td>30591</td>\n",
       "      <td>2016-07-20</td>\n",
       "      <td>POD</td>\n",
       "      <td>ANA MESQUITA</td>\n",
       "      <td>PCP</td>\n",
       "      <td>Terceira alteração à Lei n.º 54/2005, de 15 de...</td>\n",
       "      <td>Declaração de voto</td>\n",
       "    </tr>\n",
       "    <tr>\n",
       "      <th>4</th>\n",
       "      <td>30590</td>\n",
       "      <td>2016-07-20</td>\n",
       "      <td>POD</td>\n",
       "      <td>ANA MESQUITA</td>\n",
       "      <td>PCP</td>\n",
       "      <td>Altera a Lei n.º 54/2005, de 15 de novembro, q...</td>\n",
       "      <td>Declaração de voto</td>\n",
       "    </tr>\n",
       "  </tbody>\n",
       "</table>\n",
       "</div>"
      ],
      "text/plain": [
       "  id_debate        date phase          speaker political_party  \\\n",
       "0     30572  2016-07-20   POD   JAMILA MADEIRA              PS   \n",
       "1     30571  2016-07-20   POD    JOÃO OLIVEIRA             PCP   \n",
       "2     30592  2016-07-20   POD  LUÍS MONTENEGRO             PSD   \n",
       "3     30591  2016-07-20   POD     ANA MESQUITA             PCP   \n",
       "4     30590  2016-07-20   POD     ANA MESQUITA             PCP   \n",
       "\n",
       "                                        summary_text   intervention_type  \n",
       "0  Recomenda ao Governo a elaboração de levantame...  Declaração de voto  \n",
       "1  Regula o acesso à gestação de substituição nos...  Declaração de voto  \n",
       "2  Cria um regime de reembolso de impostos sobre ...  Declaração de voto  \n",
       "3  Terceira alteração à Lei n.º 54/2005, de 15 de...  Declaração de voto  \n",
       "4  Altera a Lei n.º 54/2005, de 15 de novembro, q...  Declaração de voto  "
      ]
     },
     "execution_count": 24,
     "metadata": {},
     "output_type": "execute_result"
    }
   ],
   "source": [
    "assembleia.head()"
   ]
  },
  {
   "cell_type": "code",
   "execution_count": 25,
   "metadata": {},
   "outputs": [
    {
     "name": "stdout",
     "output_type": "stream",
     "text": [
      "Temos 7 colunas e 63558 linhas.\n"
     ]
    }
   ],
   "source": [
    "assembleia.shape\n",
    "print 'Temos {} colunas e {} linhas.'.format(assembleia.shape[1], assembleia.shape[0])"
   ]
  },
  {
   "cell_type": "markdown",
   "metadata": {},
   "source": [
    "Tipos de dados? "
   ]
  },
  {
   "cell_type": "code",
   "execution_count": 26,
   "metadata": {},
   "outputs": [
    {
     "data": {
      "text/plain": [
       "id_debate            object\n",
       "date                 object\n",
       "phase                object\n",
       "speaker              object\n",
       "political_party      object\n",
       "summary_text         object\n",
       "intervention_type    object\n",
       "dtype: object"
      ]
     },
     "execution_count": 26,
     "metadata": {},
     "output_type": "execute_result"
    }
   ],
   "source": [
    "assembleia.dtypes"
   ]
  },
  {
   "cell_type": "markdown",
   "metadata": {},
   "source": [
    "Quais os diferentes partidos e tipos de intervenções? "
   ]
  },
  {
   "cell_type": "code",
   "execution_count": 30,
   "metadata": {},
   "outputs": [
    {
     "name": "stdout",
     "output_type": "stream",
     "text": [
      "PS\n",
      "PCP\n",
      "PSD\n",
      "CDS-PP\n",
      "PEV\n",
      "BE\n",
      "PAN\n"
     ]
    }
   ],
   "source": [
    "for partido in list(assembleia.political_party.unique()):\n",
    "    print partido"
   ]
  },
  {
   "cell_type": "code",
   "execution_count": 32,
   "metadata": {},
   "outputs": [
    {
     "name": "stdout",
     "output_type": "stream",
     "text": [
      "Declaração de voto\n",
      "Declaração politica\n",
      "Defesa da honra\n",
      "Explicações\n",
      "Interpelação à mesa\n",
      "Intervenção\n",
      "Leitura\n",
      "Pedido de esclarecimento\n",
      "Pergunta\n",
      "Réplica\n",
      "Defesa da consideração\n",
      "Recurso da decisão da mesa\n"
     ]
    }
   ],
   "source": [
    "for tipo_de_intervencao in list(assembleia.intervention_type.unique()):\n",
    "    print tipo_de_intervencao"
   ]
  },
  {
   "cell_type": "code",
   "execution_count": 35,
   "metadata": {},
   "outputs": [
    {
     "data": {
      "text/plain": [
       "PS        0.249221\n",
       "PSD       0.237421\n",
       "PCP       0.151798\n",
       "CDS-PP    0.146606\n",
       "BE        0.137355\n",
       "PEV       0.052204\n",
       "PAN       0.025394\n",
       "Name: political_party, dtype: float64"
      ]
     },
     "execution_count": 35,
     "metadata": {},
     "output_type": "execute_result"
    }
   ],
   "source": [
    "assembleia.political_party.value_counts(normalize=True)"
   ]
  },
  {
   "cell_type": "code",
   "execution_count": 36,
   "metadata": {},
   "outputs": [
    {
     "data": {
      "text/plain": [
       "Intervenção                   0.490796\n",
       "Declaração de voto            0.207968\n",
       "Pedido de esclarecimento      0.165770\n",
       "Leitura                       0.046918\n",
       "Pergunta                      0.039366\n",
       "Interpelação à mesa           0.028037\n",
       "Declaração politica           0.014349\n",
       "Explicações                   0.003304\n",
       "Defesa da honra               0.001794\n",
       "Réplica                       0.001510\n",
       "Defesa da consideração        0.000094\n",
       "Recurso da decisão da mesa    0.000094\n",
       "Name: intervention_type, dtype: float64"
      ]
     },
     "execution_count": 36,
     "metadata": {},
     "output_type": "execute_result"
    }
   ],
   "source": [
    "assembleia.intervention_type.value_counts(normalize=True)"
   ]
  },
  {
   "cell_type": "code",
   "execution_count": 37,
   "metadata": {},
   "outputs": [
    {
     "data": {
      "text/plain": [
       "HELOÍSA APOLÓNIA             0.027754\n",
       "ANDRÉ SILVA                  0.025394\n",
       "JOSÉ LUÍS FERREIRA           0.024450\n",
       "PEDRO FILIPE SOARES          0.016992\n",
       "ANTÓNIO FILIPE               0.016143\n",
       "JOÃO OLIVEIRA                0.015199\n",
       "NUNO MAGALHÃES               0.014444\n",
       "CARLA CRUZ                   0.013783\n",
       "ANTÓNIO CARLOS MONTEIRO      0.013499\n",
       "PAULA SANTOS                 0.013405\n",
       "BRUNO DIAS                   0.013216\n",
       "DUARTE PACHECO               0.012744\n",
       "EDUARDO FERRO RODRIGUES      0.012650\n",
       "MOISÉS FERREIRA              0.012555\n",
       "RITA RATO                    0.012555\n",
       "JOÃO RAMOS                   0.012461\n",
       "IDÁLIA SALVADOR SERRÃO       0.012272\n",
       "CECÍLIA MEIRELES             0.010667\n",
       "MARIANA MORTÁGUA             0.010573\n",
       "JOANA MORTÁGUA               0.010290\n",
       "ANA MESQUITA                 0.010290\n",
       "HELDER AMARAL                0.010101\n",
       "ANA RITA BESSA               0.009912\n",
       "CARLOS CÉSAR                 0.009912\n",
       "PEDRO MOTA SOARES            0.009535\n",
       "VÂNIA DIAS DA SILVA          0.009440\n",
       "JOSÉ MOURA SOEIRO            0.009346\n",
       "DIANA FERREIRA               0.008968\n",
       "JOÃO PINHO DE ALMEIDA        0.008968\n",
       "PATRÍCIA FONSECA             0.008402\n",
       "                               ...   \n",
       "JOÃO GONÇALVES PEREIRA       0.000378\n",
       "JOSÉ PEDRO AGUIAR BRANCO     0.000283\n",
       "JOÃO PAULO REBELO            0.000283\n",
       "FRANCISCO LOPES              0.000283\n",
       "JOÃO GOUVEIA                 0.000283\n",
       "FRANCISCO MENDES DA SILVA    0.000283\n",
       "CARLOS PÁSCOA GONÇALVES      0.000283\n",
       "ODETE SILVA                  0.000283\n",
       "HUGO CARVALHO                0.000283\n",
       "INÊS DE MEDEIROS             0.000189\n",
       "INÊS LAMEGO                  0.000189\n",
       "ANTÓNIO COSTA                0.000189\n",
       "ANA OLIVEIRA                 0.000189\n",
       "JOSÉ DE MATOS ROSA           0.000189\n",
       "ERNESTO FERRAZ               0.000189\n",
       "JORGE MOREIRA DA SILVA       0.000189\n",
       "ANA PAULA VITORINO           0.000189\n",
       "ÂNGELA MOREIRA               0.000094\n",
       "CONCEIÇÃO BESSA RUÃO         0.000094\n",
       "EDUARDO CABRITA              0.000094\n",
       "PEDRO PINTO                  0.000094\n",
       "ISABEL ONETO                 0.000094\n",
       "GRAÇA FONSECA                0.000094\n",
       "EUGÉNIA DUARTE               0.000094\n",
       "ANTÓNIO RODRIGUES            0.000094\n",
       "LÍLIA ANA ÁGUAS              0.000094\n",
       "MÁRIO CENTENO                0.000094\n",
       "MARIA LUÍSA CABRAL           0.000094\n",
       "MARIA ADELAIDE RIBEIRO       0.000094\n",
       "PAULO SIMÕES RIBEIRO         0.000094\n",
       "Name: speaker, Length: 269, dtype: float64"
      ]
     },
     "execution_count": 37,
     "metadata": {},
     "output_type": "execute_result"
    }
   ],
   "source": [
    "assembleia.speaker.value_counts(normalize=True)"
   ]
  },
  {
   "cell_type": "code",
   "execution_count": 22,
   "metadata": {},
   "outputs": [
    {
     "data": {
      "text/plain": [
       "Intervenção                   0.544776\n",
       "Pedido de esclarecimento      0.195896\n",
       "Declaração de voto            0.174751\n",
       "Pergunta                      0.036070\n",
       "Interpelação à mesa           0.021766\n",
       "Declaração politica           0.017413\n",
       "Leitura                       0.003731\n",
       "Explicações                   0.001866\n",
       "Réplica                       0.001866\n",
       "Defesa da consideração        0.000622\n",
       "Defesa da honra               0.000622\n",
       "Recurso da decisão da mesa    0.000622\n",
       "Name: intervention_type, dtype: float64"
      ]
     },
     "execution_count": 22,
     "metadata": {},
     "output_type": "execute_result"
    }
   ],
   "source": [
    "assembleia[assembleia.political_party == 'PCP'].intervention_type.value_counts(normalize=True)"
   ]
  },
  {
   "cell_type": "code",
   "execution_count": 23,
   "metadata": {},
   "outputs": [
    {
     "data": {
      "text/plain": [
       "Intervenção                 0.414712\n",
       "Declaração de voto          0.291849\n",
       "Pedido de esclarecimento    0.153877\n",
       "Interpelação à mesa         0.048907\n",
       "Leitura                     0.046123\n",
       "Pergunta                    0.027038\n",
       "Declaração politica         0.010736\n",
       "Réplica                     0.002783\n",
       "Defesa da honra             0.002386\n",
       "Explicações                 0.001590\n",
       "Name: intervention_type, dtype: float64"
      ]
     },
     "execution_count": 23,
     "metadata": {},
     "output_type": "execute_result"
    }
   ],
   "source": [
    "assembleia[assembleia.political_party == 'PSD'].intervention_type.value_counts(normalize=True)"
   ]
  },
  {
   "cell_type": "code",
   "execution_count": 24,
   "metadata": {},
   "outputs": [
    {
     "data": {
      "text/plain": [
       "Intervenção                 0.394318\n",
       "Declaração de voto          0.305682\n",
       "Pedido de esclarecimento    0.129167\n",
       "Leitura                     0.096970\n",
       "Pergunta                    0.032576\n",
       "Interpelação à mesa         0.021591\n",
       "Declaração politica         0.011364\n",
       "Explicações                 0.006818\n",
       "Defesa da honra             0.001515\n",
       "Name: intervention_type, dtype: float64"
      ]
     },
     "execution_count": 24,
     "metadata": {},
     "output_type": "execute_result"
    }
   ],
   "source": [
    "assembleia[assembleia.political_party == 'PS'].intervention_type.value_counts(normalize=True)"
   ]
  },
  {
   "cell_type": "code",
   "execution_count": 25,
   "metadata": {},
   "outputs": [
    {
     "data": {
      "text/plain": [
       "Intervenção                 0.596564\n",
       "Pedido de esclarecimento    0.225430\n",
       "Declaração de voto          0.065979\n",
       "Pergunta                    0.040550\n",
       "Leitura                     0.030241\n",
       "Interpelação à mesa         0.017182\n",
       "Declaração politica         0.016495\n",
       "Explicações                 0.004811\n",
       "Réplica                     0.002062\n",
       "Defesa da honra             0.000687\n",
       "Name: intervention_type, dtype: float64"
      ]
     },
     "execution_count": 25,
     "metadata": {},
     "output_type": "execute_result"
    }
   ],
   "source": [
    "assembleia[assembleia.political_party == 'BE'].intervention_type.value_counts(normalize=True)"
   ]
  },
  {
   "cell_type": "code",
   "execution_count": 26,
   "metadata": {},
   "outputs": [
    {
     "data": {
      "text/plain": [
       "array([u'PS', u'PCP', u'PSD', u'CDS-PP', u'PEV', u'BE', u'PAN'],\n",
       "      dtype=object)"
      ]
     },
     "execution_count": 26,
     "metadata": {},
     "output_type": "execute_result"
    }
   ],
   "source": [
    "assembleia.political_party.unique()"
   ]
  },
  {
   "cell_type": "code",
   "execution_count": null,
   "metadata": {},
   "outputs": [],
   "source": [
    "assembleia.political_party.unique()"
   ]
  }
 ],
 "metadata": {
  "kernelspec": {
   "display_name": "Python [default]",
   "language": "python",
   "name": "python2"
  },
  "language_info": {
   "codemirror_mode": {
    "name": "ipython",
    "version": 2
   },
   "file_extension": ".py",
   "mimetype": "text/x-python",
   "name": "python",
   "nbconvert_exporter": "python",
   "pygments_lexer": "ipython2",
   "version": "2.7.13"
  }
 },
 "nbformat": 4,
 "nbformat_minor": 2
}
